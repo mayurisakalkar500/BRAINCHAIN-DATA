{
 "cells": [
  {
   "cell_type": "code",
   "execution_count": 1,
   "id": "5e52de64-5f49-4053-b8bf-428e6f2218cd",
   "metadata": {},
   "outputs": [],
   "source": [
    "import pandas as pd\n",
    "import numpy as np\n",
    "from faker import Faker"
   ]
  },
  {
   "cell_type": "code",
   "execution_count": 2,
   "id": "0c7b6ee6-4377-43a4-9d8c-6bff043a93e9",
   "metadata": {},
   "outputs": [],
   "source": [
    "# Initialize Faker\n",
    "fake = Faker()"
   ]
  },
  {
   "cell_type": "code",
   "execution_count": 3,
   "id": "b5935d37-2bd5-4be5-b831-0f423bf5ed05",
   "metadata": {},
   "outputs": [],
   "source": [
    "#number of records\n",
    "num_records = 10000"
   ]
  },
  {
   "cell_type": "code",
   "execution_count": 4,
   "id": "8f9a3367-e468-4ae8-88e8-bbbff88b67bf",
   "metadata": {},
   "outputs": [],
   "source": [
    "# Define with their respective probabilities\n",
    "tiers = [\n",
    "    (\"CXO\", 0.05),\n",
    "    (\"Manager\", 0.10),\n",
    "    (\"Freelancer\", 0.20),\n",
    "    (\"Lead\", 0.20),\n",
    "    (\"Professional\", 0.45)\n",
    "]"
   ]
  },
  {
   "cell_type": "code",
   "execution_count": 5,
   "id": "e1610787-bb4a-45de-bb92-acf12ecc0732",
   "metadata": {},
   "outputs": [],
   "source": [
    "# Extract tier names and their probabilities\n",
    "tier_names, tier_probs = zip(*tiers)"
   ]
  },
  {
   "cell_type": "code",
   "execution_count": 6,
   "id": "38b19728-b72e-4ab3-8fd2-398ac426fc7e",
   "metadata": {},
   "outputs": [],
   "source": [
    "# Generate the data\n",
    "data = {\n",
    "    \"ProfessionalDetails\": [fake.job() for _ in range(num_records)],\n",
    "    \"Tier\": np.random.choice(tier_names, num_records, p=tier_probs)\n",
    "}"
   ]
  },
  {
   "cell_type": "code",
   "execution_count": 7,
   "id": "f211f8ac-0c72-41e1-b84e-2d7b32c3f388",
   "metadata": {},
   "outputs": [],
   "source": [
    "df = pd.DataFrame(data)"
   ]
  },
  {
   "cell_type": "code",
   "execution_count": 8,
   "id": "5106b7ee-7594-4a44-a58b-8f08c2f7c6f4",
   "metadata": {},
   "outputs": [
    {
     "name": "stdout",
     "output_type": "stream",
     "text": [
      "       ProfessionalDetails          Tier\n",
      "0              Pathologist          Lead\n",
      "1     Brewing technologist          Lead\n",
      "2  Chartered loss adjuster          Lead\n",
      "3          Event organiser    Freelancer\n",
      "4                Homeopath  Professional\n"
     ]
    }
   ],
   "source": [
    "print(df.head())"
   ]
  },
  {
   "cell_type": "code",
   "execution_count": 10,
   "id": "ed0736ff-b338-4c11-8af0-fa13d76dcae5",
   "metadata": {},
   "outputs": [],
   "source": [
    "# save dataframe to csv file\n",
    "file_path = 'fake_professional_data.csv'\n",
    "df.to_csv(file_path, index=False)"
   ]
  },
  {
   "cell_type": "code",
   "execution_count": 11,
   "id": "021a5717-8938-4fbe-96aa-a4e5d71bbcea",
   "metadata": {},
   "outputs": [
    {
     "name": "stdout",
     "output_type": "stream",
     "text": [
      "Data saved to fake_professional_data.csv\n"
     ]
    }
   ],
   "source": [
    "\n",
    "print(f\"Data saved to {file_path}\")"
   ]
  },
  {
   "cell_type": "code",
   "execution_count": 12,
   "id": "ceec9859-e7d3-4b86-90f4-46af9fa4948d",
   "metadata": {},
   "outputs": [],
   "source": [
    "df_loaded = pd.read_csv('fake_professional_data.csv')"
   ]
  },
  {
   "cell_type": "code",
   "execution_count": 13,
   "id": "44a7af57-9b8a-4be5-be39-532365af60b1",
   "metadata": {},
   "outputs": [
    {
     "data": {
      "text/html": [
       "<div>\n",
       "<style scoped>\n",
       "    .dataframe tbody tr th:only-of-type {\n",
       "        vertical-align: middle;\n",
       "    }\n",
       "\n",
       "    .dataframe tbody tr th {\n",
       "        vertical-align: top;\n",
       "    }\n",
       "\n",
       "    .dataframe thead th {\n",
       "        text-align: right;\n",
       "    }\n",
       "</style>\n",
       "<table border=\"1\" class=\"dataframe\">\n",
       "  <thead>\n",
       "    <tr style=\"text-align: right;\">\n",
       "      <th></th>\n",
       "      <th>ProfessionalDetails</th>\n",
       "      <th>Tier</th>\n",
       "    </tr>\n",
       "  </thead>\n",
       "  <tbody>\n",
       "    <tr>\n",
       "      <th>0</th>\n",
       "      <td>Pathologist</td>\n",
       "      <td>Lead</td>\n",
       "    </tr>\n",
       "    <tr>\n",
       "      <th>1</th>\n",
       "      <td>Brewing technologist</td>\n",
       "      <td>Lead</td>\n",
       "    </tr>\n",
       "    <tr>\n",
       "      <th>2</th>\n",
       "      <td>Chartered loss adjuster</td>\n",
       "      <td>Lead</td>\n",
       "    </tr>\n",
       "    <tr>\n",
       "      <th>3</th>\n",
       "      <td>Event organiser</td>\n",
       "      <td>Freelancer</td>\n",
       "    </tr>\n",
       "    <tr>\n",
       "      <th>4</th>\n",
       "      <td>Homeopath</td>\n",
       "      <td>Professional</td>\n",
       "    </tr>\n",
       "    <tr>\n",
       "      <th>5</th>\n",
       "      <td>Newspaper journalist</td>\n",
       "      <td>Lead</td>\n",
       "    </tr>\n",
       "    <tr>\n",
       "      <th>6</th>\n",
       "      <td>Make</td>\n",
       "      <td>Manager</td>\n",
       "    </tr>\n",
       "    <tr>\n",
       "      <th>7</th>\n",
       "      <td>Psychiatrist</td>\n",
       "      <td>Freelancer</td>\n",
       "    </tr>\n",
       "    <tr>\n",
       "      <th>8</th>\n",
       "      <td>Futures trader</td>\n",
       "      <td>Lead</td>\n",
       "    </tr>\n",
       "    <tr>\n",
       "      <th>9</th>\n",
       "      <td>Chartered management accountant</td>\n",
       "      <td>Professional</td>\n",
       "    </tr>\n",
       "    <tr>\n",
       "      <th>10</th>\n",
       "      <td>Lighting technician, broadcasting/film/video</td>\n",
       "      <td>Professional</td>\n",
       "    </tr>\n",
       "    <tr>\n",
       "      <th>11</th>\n",
       "      <td>Producer, radio</td>\n",
       "      <td>Professional</td>\n",
       "    </tr>\n",
       "    <tr>\n",
       "      <th>12</th>\n",
       "      <td>Research scientist (physical sciences)</td>\n",
       "      <td>Freelancer</td>\n",
       "    </tr>\n",
       "    <tr>\n",
       "      <th>13</th>\n",
       "      <td>Financial planner</td>\n",
       "      <td>Professional</td>\n",
       "    </tr>\n",
       "    <tr>\n",
       "      <th>14</th>\n",
       "      <td>Press photographer</td>\n",
       "      <td>Lead</td>\n",
       "    </tr>\n",
       "  </tbody>\n",
       "</table>\n",
       "</div>"
      ],
      "text/plain": [
       "                             ProfessionalDetails          Tier\n",
       "0                                    Pathologist          Lead\n",
       "1                           Brewing technologist          Lead\n",
       "2                        Chartered loss adjuster          Lead\n",
       "3                                Event organiser    Freelancer\n",
       "4                                      Homeopath  Professional\n",
       "5                           Newspaper journalist          Lead\n",
       "6                                           Make       Manager\n",
       "7                                   Psychiatrist    Freelancer\n",
       "8                                 Futures trader          Lead\n",
       "9                Chartered management accountant  Professional\n",
       "10  Lighting technician, broadcasting/film/video  Professional\n",
       "11                               Producer, radio  Professional\n",
       "12        Research scientist (physical sciences)    Freelancer\n",
       "13                             Financial planner  Professional\n",
       "14                            Press photographer          Lead"
      ]
     },
     "execution_count": 13,
     "metadata": {},
     "output_type": "execute_result"
    }
   ],
   "source": [
    "df_loaded.head(15)"
   ]
  },
  {
   "cell_type": "code",
   "execution_count": null,
   "id": "39184586-6587-41d6-9dc0-7b4249fe0772",
   "metadata": {},
   "outputs": [],
   "source": []
  }
 ],
 "metadata": {
  "kernelspec": {
   "display_name": "Python 3 (ipykernel)",
   "language": "python",
   "name": "python3"
  },
  "language_info": {
   "codemirror_mode": {
    "name": "ipython",
    "version": 3
   },
   "file_extension": ".py",
   "mimetype": "text/x-python",
   "name": "python",
   "nbconvert_exporter": "python",
   "pygments_lexer": "ipython3",
   "version": "3.12.3"
  }
 },
 "nbformat": 4,
 "nbformat_minor": 5
}
