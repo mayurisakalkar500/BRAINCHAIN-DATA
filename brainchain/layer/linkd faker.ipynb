{
 "cells": [
  {
   "cell_type": "code",
   "execution_count": 2,
   "id": "af90e64d-5201-45ff-a307-e31807134887",
   "metadata": {},
   "outputs": [],
   "source": [
    "import pandas as pd\n",
    "from faker import Faker\n",
    "import numpy as np\n",
    "from sqlalchemy import create_engine"
   ]
  },
  {
   "cell_type": "code",
   "execution_count": 4,
   "id": "1d5cc0b4-687c-43c3-b24d-dd32782f4e68",
   "metadata": {},
   "outputs": [],
   "source": [
    "# Faker\n",
    "fake = Faker()"
   ]
  },
  {
   "cell_type": "code",
   "execution_count": 6,
   "id": "965d3797-0ccd-425c-ba02-3f00872d608a",
   "metadata": {},
   "outputs": [],
   "source": [
    "# number of records to generate\n",
    "num_users = 1000\n",
    "num_jobs_per_user = 3\n",
    "num_educations_per_user = 2\n",
    "num_skills_per_user = 5\n",
    "num_recommendations_per_user = 1\n",
    "num_connections_per_user = 10"
   ]
  },
  {
   "cell_type": "code",
   "execution_count": 7,
   "id": "0572c653-43cc-496d-897e-df3a44ff93d6",
   "metadata": {},
   "outputs": [],
   "source": [
    "# database connection\n",
    "engine = create_engine('sqlite:///linkedin_fake_data.db')"
   ]
  },
  {
   "cell_type": "code",
   "execution_count": 8,
   "id": "7273e283-95c6-49df-9c05-0fffd6fb918e",
   "metadata": {},
   "outputs": [],
   "source": [
    "# Users data\n",
    "users = {\n",
    "    \"user_id\": list(range(1, num_users + 1)),\n",
    "    \"linkedin_id\": [fake.unique.uuid4() for _ in range(num_users)],\n",
    "    \"first_name\": [fake.first_name() for _ in range(num_users)],\n",
    "    \"last_name\": [fake.last_name() for _ in range(num_users)],\n",
    "    \"headline\": [fake.job() for _ in range(num_users)],\n",
    "    \"summary\": [fake.text(max_nb_chars=500) for _ in range(num_users)],\n",
    "    \"profile_url\": [fake.url() for _ in range(num_users)],\n",
    "    \"location\": [fake.city() for _ in range(num_users)],\n",
    "    \"industry\": [fake.word() for _ in range(num_users)],\n",
    "    \"email\": [fake.email() for _ in range(num_users)]\n",
    "}"
   ]
  },
  {
   "cell_type": "code",
   "execution_count": 9,
   "id": "ef4823ac-6ae6-439f-910c-bd0cbb40068c",
   "metadata": {},
   "outputs": [
    {
     "data": {
      "text/plain": [
       "1000"
      ]
     },
     "execution_count": 9,
     "metadata": {},
     "output_type": "execute_result"
    }
   ],
   "source": [
    "df_users = pd.DataFrame(users)\n",
    "df_users.to_sql('Users', engine, index=False, if_exists='replace')"
   ]
  },
  {
   "cell_type": "code",
   "execution_count": 11,
   "id": "5b53359e-2e3e-4b09-b9fc-298f1eeed225",
   "metadata": {},
   "outputs": [],
   "source": [
    "# JobHistory data\n",
    "job_history = {\n",
    "    \"job_id\": [],\n",
    "    \"user_id\": [],\n",
    "    \"title\": [],\n",
    "    \"company_name\": [],\n",
    "    \"location\": [],\n",
    "    \"start_date\": [],\n",
    "    \"end_date\": [],\n",
    "    \"description\": []\n",
    "}"
   ]
  },
  {
   "cell_type": "code",
   "execution_count": 12,
   "id": "8288b29f-2029-494d-8eac-0fbf92b6e37e",
   "metadata": {},
   "outputs": [],
   "source": [
    "for user_id in range(1, num_users + 1):\n",
    "    for _ in range(num_jobs_per_user):\n",
    "        job_history[\"job_id\"].append(len(job_history[\"job_id\"]) + 1)\n",
    "        job_history[\"user_id\"].append(user_id)\n",
    "        job_history[\"title\"].append(fake.job())\n",
    "        job_history[\"company_name\"].append(fake.company())\n",
    "        job_history[\"location\"].append(fake.city())\n",
    "        start_date = fake.date_between(start_date='-10y', end_date='today')\n",
    "        end_date = fake.date_between(start_date=start_date, end_date='today')\n",
    "        job_history[\"start_date\"].append(start_date)\n",
    "        job_history[\"end_date\"].append(end_date)\n",
    "        job_history[\"description\"].append(fake.text(max_nb_chars=200))"
   ]
  },
  {
   "cell_type": "code",
   "execution_count": 13,
   "id": "91beddec-e5c0-44fb-92f8-2eede6e7e1cf",
   "metadata": {},
   "outputs": [
    {
     "data": {
      "text/plain": [
       "3000"
      ]
     },
     "execution_count": 13,
     "metadata": {},
     "output_type": "execute_result"
    }
   ],
   "source": [
    "df_job_history = pd.DataFrame(job_history)\n",
    "df_job_history.to_sql('JobHistory', engine, index=False, if_exists='replace')\n"
   ]
  },
  {
   "cell_type": "code",
   "execution_count": 14,
   "id": "80e81d68-8200-4295-8df8-adb74c3ad1ae",
   "metadata": {},
   "outputs": [],
   "source": [
    "# Education data\n",
    "education = {\n",
    "    \"education_id\": [],\n",
    "    \"user_id\": [],\n",
    "    \"school_name\": [],\n",
    "    \"degree\": [],\n",
    "    \"field_of_study\": [],\n",
    "    \"start_date\": [],\n",
    "    \"end_date\": [],\n",
    "    \"description\": []\n",
    "}"
   ]
  },
  {
   "cell_type": "code",
   "execution_count": 15,
   "id": "4cc79995-221c-4689-84f7-6f46f1469e4d",
   "metadata": {},
   "outputs": [],
   "source": [
    "for user_id in range(1, num_users + 1):\n",
    "    for _ in range(num_educations_per_user):\n",
    "        education[\"education_id\"].append(len(education[\"education_id\"]) + 1)\n",
    "        education[\"user_id\"].append(user_id)\n",
    "        education[\"school_name\"].append(fake.company())\n",
    "        education[\"degree\"].append(fake.word())\n",
    "        education[\"field_of_study\"].append(fake.word())\n",
    "        start_date = fake.date_between(start_date='-10y', end_date='today')\n",
    "        end_date = fake.date_between(start_date=start_date, end_date='today')\n",
    "        education[\"start_date\"].append(start_date)\n",
    "        education[\"end_date\"].append(end_date)\n",
    "        education[\"description\"].append(fake.text(max_nb_chars=200))"
   ]
  },
  {
   "cell_type": "code",
   "execution_count": 16,
   "id": "8d7f896b-979e-4512-a82b-62260982b87d",
   "metadata": {},
   "outputs": [
    {
     "data": {
      "text/plain": [
       "2000"
      ]
     },
     "execution_count": 16,
     "metadata": {},
     "output_type": "execute_result"
    }
   ],
   "source": [
    "df_education = pd.DataFrame(education)\n",
    "df_education.to_sql('Education', engine, index=False, if_exists='replace')"
   ]
  },
  {
   "cell_type": "code",
   "execution_count": 17,
   "id": "86e077da-c5d1-470b-9b6a-ec755c9bb0bf",
   "metadata": {},
   "outputs": [],
   "source": [
    "\n",
    "# Skills data\n",
    "skills = {\n",
    "    \"skill_id\": [],\n",
    "    \"user_id\": [],\n",
    "    \"skill_name\": [],\n",
    "    \"endorsements_count\": []\n",
    "}"
   ]
  },
  {
   "cell_type": "code",
   "execution_count": 18,
   "id": "538722f2-9373-4c16-81a8-059b894bc469",
   "metadata": {},
   "outputs": [],
   "source": [
    "for user_id in range(1, num_users + 1):\n",
    "    for _ in range(num_skills_per_user):\n",
    "        skills[\"skill_id\"].append(len(skills[\"skill_id\"]) + 1)\n",
    "        skills[\"user_id\"].append(user_id)\n",
    "        skills[\"skill_name\"].append(fake.word())\n",
    "        skills[\"endorsements_count\"].append(fake.random_int(min=0, max=100))"
   ]
  },
  {
   "cell_type": "code",
   "execution_count": 19,
   "id": "21b9a8f2-9878-44a5-a721-291d5f7cd4dc",
   "metadata": {},
   "outputs": [
    {
     "data": {
      "text/plain": [
       "5000"
      ]
     },
     "execution_count": 19,
     "metadata": {},
     "output_type": "execute_result"
    }
   ],
   "source": [
    "df_skills = pd.DataFrame(skills)\n",
    "df_skills.to_sql('Skills', engine, index=False, if_exists='replace')\n"
   ]
  },
  {
   "cell_type": "code",
   "execution_count": 20,
   "id": "7ea150d0-3398-4eb9-abbc-0c265468f62d",
   "metadata": {},
   "outputs": [],
   "source": [
    "#  Recommendations data\n",
    "recommendations = {\n",
    "    \"recommendation_id\": [],\n",
    "    \"user_id\": [],\n",
    "    \"recommender_name\": [],\n",
    "    \"recommender_position\": [],\n",
    "    \"recommendation_text\": [],\n",
    "    \"date\": []\n",
    "}\n"
   ]
  },
  {
   "cell_type": "code",
   "execution_count": 21,
   "id": "e9a43ef1-552a-4a48-9b21-612bb0893b30",
   "metadata": {},
   "outputs": [],
   "source": [
    "for user_id in range(1, num_users + 1):\n",
    "    for _ in range(num_recommendations_per_user):\n",
    "        recommendations[\"recommendation_id\"].append(len(recommendations[\"recommendation_id\"]) + 1)\n",
    "        recommendations[\"user_id\"].append(user_id)\n",
    "        recommendations[\"recommender_name\"].append(fake.name())\n",
    "        recommendations[\"recommender_position\"].append(fake.job())\n",
    "        recommendations[\"recommendation_text\"].append(fake.text(max_nb_chars=300))\n",
    "        recommendations[\"date\"].append(fake.date_between(start_date='-5y', end_date='today'))"
   ]
  },
  {
   "cell_type": "code",
   "execution_count": 22,
   "id": "b55fe173-e946-4325-aacb-388370ccec66",
   "metadata": {},
   "outputs": [
    {
     "data": {
      "text/plain": [
       "1000"
      ]
     },
     "execution_count": 22,
     "metadata": {},
     "output_type": "execute_result"
    }
   ],
   "source": [
    "df_recommendations = pd.DataFrame(recommendations)\n",
    "df_recommendations.to_sql('Recommendations', engine, index=False, if_exists='replace')\n"
   ]
  },
  {
   "cell_type": "code",
   "execution_count": 24,
   "id": "11fb6cd5-04bd-4822-aa07-b8d78cf79b00",
   "metadata": {},
   "outputs": [],
   "source": [
    "# Connections data\n",
    "connections = {\n",
    "    \"connection_id\": [],\n",
    "    \"user_id\": [],\n",
    "    \"connection_linkedin_id\": [],\n",
    "    \"connection_name\": [],\n",
    "    \"connection_profile_url\": [],\n",
    "    \"connection_headline\": []\n",
    "}"
   ]
  },
  {
   "cell_type": "code",
   "execution_count": 25,
   "id": "41a5ac51-4935-4412-bbc0-a11ec1aca035",
   "metadata": {},
   "outputs": [],
   "source": [
    "for user_id in range(1, num_users + 1):\n",
    "    for _ in range(num_connections_per_user):\n",
    "        connections[\"connection_id\"].append(len(connections[\"connection_id\"]) + 1)\n",
    "        connections[\"user_id\"].append(user_id)\n",
    "        connections[\"connection_linkedin_id\"].append(fake.unique.uuid4())\n",
    "        connections[\"connection_name\"].append(fake.name())\n",
    "        connections[\"connection_profile_url\"].append(fake.url())\n",
    "        connections[\"connection_headline\"].append(fake.job())"
   ]
  },
  {
   "cell_type": "code",
   "execution_count": 26,
   "id": "ab4816a0-b936-4b89-9039-58ef3b9e442e",
   "metadata": {},
   "outputs": [
    {
     "data": {
      "text/plain": [
       "10000"
      ]
     },
     "execution_count": 26,
     "metadata": {},
     "output_type": "execute_result"
    }
   ],
   "source": [
    "df_connections = pd.DataFrame(connections)\n",
    "df_connections.to_sql('Connections', engine, index=False, if_exists='replace')"
   ]
  },
  {
   "cell_type": "code",
   "execution_count": 28,
   "id": "d8b76be7-7ea0-46f2-a524-5b17c9d8d043",
   "metadata": {},
   "outputs": [],
   "source": [
    "# Read and display a few rows from each table\n",
    "df_users_sample = pd.read_sql('Users', engine).head()\n",
    "df_job_history_sample = pd.read_sql('JobHistory', engine).head()\n",
    "df_education_sample = pd.read_sql('Education', engine).head()\n",
    "df_skills_sample = pd.read_sql('Skills', engine).head()\n",
    "df_recommendations_sample = pd.read_sql('Recommendations', engine).head()\n",
    "df_connections_sample = pd.read_sql('Connections', engine).head()\n"
   ]
  },
  {
   "cell_type": "code",
   "execution_count": 29,
   "id": "a4d25ab7-6474-46a8-a784-9eaa11c8c998",
   "metadata": {},
   "outputs": [
    {
     "name": "stdout",
     "output_type": "stream",
     "text": [
      "Users Sample Data:\n",
      "   user_id                           linkedin_id first_name  last_name  \\\n",
      "0        1  78bf89e6-f565-4d8e-8045-42210fba46ed      James   Gonzalez   \n",
      "1        2  f1aa0a03-2487-4f8d-9b0c-11e0039d2c4d    Michael        Day   \n",
      "2        3  c67b6f3b-f44c-4d39-8590-877e7f5f4a34    Valerie  Rodriguez   \n",
      "3        4  3eb4ede7-b587-4b83-bd5c-e875f66ad1df    William     Howell   \n",
      "4        5  e9b636c8-6b68-47a8-9edf-c2ef04368986     Audrey   Friedman   \n",
      "\n",
      "                     headline  \\\n",
      "0  Regulatory affairs officer   \n",
      "1           Librarian, public   \n",
      "2    Local government officer   \n",
      "3           Personnel officer   \n",
      "4              Therapist, art   \n",
      "\n",
      "                                             summary  \\\n",
      "0  View voice town teach long herself. Simple bet...   \n",
      "1  Whom miss green early compare. Enjoy affect st...   \n",
      "2  Entire attorney from tend while. College imagi...   \n",
      "3  East American local change really resource dre...   \n",
      "4  Marriage protect trade music scientist issue b...   \n",
      "\n",
      "                   profile_url         location  industry  \\\n",
      "0           http://miller.com/         Phambury  together   \n",
      "1          http://spencer.com/     Martinezberg    policy   \n",
      "2     https://www.douglas.com/  Lake Davidville  somebody   \n",
      "3      https://www.harper.com/       North Lisa      rest   \n",
      "4  http://www.clark-smith.com/   Montgomeryport      rest   \n",
      "\n",
      "                       email  \n",
      "0  sabrinasnyder@example.com  \n",
      "1      maureen98@example.com  \n",
      "2        julie15@example.org  \n",
      "3        yrivera@example.org  \n",
      "4     nicholas71@example.com  \n",
      "\n",
      "JobHistory Sample Data:\n",
      "   job_id  user_id                                          title  \\\n",
      "0       1        1                                Games developer   \n",
      "1       2        1                                 Futures trader   \n",
      "2       3        1                            Animal nutritionist   \n",
      "3       4        2  Chartered legal executive (England and Wales)   \n",
      "4       5        2                                 Therapist, art   \n",
      "\n",
      "                company_name            location start_date   end_date  \\\n",
      "0               Fuller Group        Wendyborough 2023-07-17 2024-01-11   \n",
      "1              Carroll Group          Aprilshire 2018-01-10 2018-11-23   \n",
      "2                Bauer-Avila  East Michelleshire 2023-10-08 2024-06-04   \n",
      "3  Hunter, Lamb and Jennings       Stefaniemouth 2022-07-24 2022-07-28   \n",
      "4                  Patel Inc            New Tara 2018-05-15 2018-10-24   \n",
      "\n",
      "                                         description  \n",
      "0  Star require particular dog read building. Fig...  \n",
      "1  Gas politics name teach. Relationship today fe...  \n",
      "2  Ready their research road light word season. N...  \n",
      "3  Simple approach boy account glass.\\nWindow add...  \n",
      "4  Actually ask challenge fire sometimes. Directi...  \n",
      "\n",
      "Education Sample Data:\n",
      "   education_id  user_id                   school_name      degree  \\\n",
      "0             1        1    Hernandez, Jones and Olson      toward   \n",
      "1             2        1                Gonzales Group      always   \n",
      "2             3        2  Coleman, Bailey and Anderson       least   \n",
      "3             4        2  Townsend, Miller and Mendoza  Republican   \n",
      "4             5        3  Galloway, Martin and Ramirez       right   \n",
      "\n",
      "  field_of_study start_date   end_date  \\\n",
      "0           rate 2020-10-09 2021-05-09   \n",
      "1        section 2023-12-27 2024-04-09   \n",
      "2        foreign 2017-03-22 2023-12-07   \n",
      "3         debate 2021-03-27 2023-05-15   \n",
      "4     throughout 2018-09-19 2023-01-25   \n",
      "\n",
      "                                         description  \n",
      "0  Sort of happen enter. Few similar hospital deg...  \n",
      "1  Central about wall help middle give national. ...  \n",
      "2  On very choose gas. Night detail coach upon. F...  \n",
      "3  Key nothing third great Congress law. Able fre...  \n",
      "4  Point actually process participant. Mind role ...  \n",
      "\n",
      "Skills Sample Data:\n",
      "   skill_id  user_id skill_name  endorsements_count\n",
      "0         1        1     record                  89\n",
      "1         2        1       risk                  55\n",
      "2         3        1         TV                  16\n",
      "3         4        1      teach                  75\n",
      "4         5        1     artist                  65\n",
      "\n",
      "Recommendations Sample Data:\n",
      "   recommendation_id  user_id recommender_name  \\\n",
      "0                  1        1      Lisa Weaver   \n",
      "1                  2        2      Megan Owens   \n",
      "2                  3        3  Richard Pearson   \n",
      "3                  4        4    Justin Dorsey   \n",
      "4                  5        5    Joseph Harris   \n",
      "\n",
      "                    recommender_position  \\\n",
      "0                        Psychotherapist   \n",
      "1  Engineer, control and instrumentation   \n",
      "2                     Surveyor, quantity   \n",
      "3                 Therapist, nutritional   \n",
      "4                           Retail buyer   \n",
      "\n",
      "                                 recommendation_text       date  \n",
      "0  Build star anything small involve. Plant parti... 2022-10-06  \n",
      "1  Purpose recognize sometimes send name general ... 2020-06-20  \n",
      "2  Exactly together begin together human forget h... 2023-10-11  \n",
      "3  Go within wish professional man you discover. ... 2022-08-27  \n",
      "4  Forget budget myself old partner. Like push re... 2020-01-22  \n",
      "\n",
      "Connections Sample Data:\n",
      "   connection_id  user_id                connection_linkedin_id  \\\n",
      "0              1        1  bf1ed14b-95e7-4399-8210-ff0c810fd550   \n",
      "1              2        1  73f57a0a-3481-41cb-b16c-09f526e73ae5   \n",
      "2              3        1  9f3b0e56-942e-4210-b0aa-e8cf020692a8   \n",
      "3              4        1  2a035ba9-0b66-44f9-b9d3-5f75d57a734f   \n",
      "4              5        1  a48d0884-8cb5-4381-a25a-13363c9d9765   \n",
      "\n",
      "   connection_name connection_profile_url             connection_headline  \n",
      "0      Ryan Mooney    https://knight.biz/                 Engineer, water  \n",
      "1  Laura Rodriguez       http://hill.biz/            Commissioning editor  \n",
      "2     Cody Alvarez      http://smith.com/                       Economist  \n",
      "3   Matthew Harmon      http://jones.com/           Hydrographic surveyor  \n",
      "4   Danielle Smith     http://harmon.biz/  Armed forces technical officer  \n"
     ]
    }
   ],
   "source": [
    "print(\"Users Sample Data:\")\n",
    "print(df_users_sample)\n",
    "\n",
    "print(\"\\nJobHistory Sample Data:\")\n",
    "print(df_job_history_sample)\n",
    "\n",
    "print(\"\\nEducation Sample Data:\")\n",
    "print(df_education_sample)\n",
    "\n",
    "print(\"\\nSkills Sample Data:\")\n",
    "print(df_skills_sample)\n",
    "\n",
    "print(\"\\nRecommendations Sample Data:\")\n",
    "print(df_recommendations_sample)\n",
    "\n",
    "print(\"\\nConnections Sample Data:\")\n",
    "print(df_connections_sample)"
   ]
  },
  {
   "cell_type": "code",
   "execution_count": 31,
   "id": "454d6517-1313-4b72-a71b-07657dbbfc74",
   "metadata": {},
   "outputs": [
    {
     "name": "stdout",
     "output_type": "stream",
     "text": [
      "Users Table:\n",
      "   user_id                           linkedin_id first_name  last_name  \\\n",
      "0        1  78bf89e6-f565-4d8e-8045-42210fba46ed      James   Gonzalez   \n",
      "1        2  f1aa0a03-2487-4f8d-9b0c-11e0039d2c4d    Michael        Day   \n",
      "2        3  c67b6f3b-f44c-4d39-8590-877e7f5f4a34    Valerie  Rodriguez   \n",
      "3        4  3eb4ede7-b587-4b83-bd5c-e875f66ad1df    William     Howell   \n",
      "4        5  e9b636c8-6b68-47a8-9edf-c2ef04368986     Audrey   Friedman   \n",
      "\n",
      "                     headline  \\\n",
      "0  Regulatory affairs officer   \n",
      "1           Librarian, public   \n",
      "2    Local government officer   \n",
      "3           Personnel officer   \n",
      "4              Therapist, art   \n",
      "\n",
      "                                             summary  \\\n",
      "0  View voice town teach long herself. Simple bet...   \n",
      "1  Whom miss green early compare. Enjoy affect st...   \n",
      "2  Entire attorney from tend while. College imagi...   \n",
      "3  East American local change really resource dre...   \n",
      "4  Marriage protect trade music scientist issue b...   \n",
      "\n",
      "                   profile_url         location  industry  \\\n",
      "0           http://miller.com/         Phambury  together   \n",
      "1          http://spencer.com/     Martinezberg    policy   \n",
      "2     https://www.douglas.com/  Lake Davidville  somebody   \n",
      "3      https://www.harper.com/       North Lisa      rest   \n",
      "4  http://www.clark-smith.com/   Montgomeryport      rest   \n",
      "\n",
      "                       email  \n",
      "0  sabrinasnyder@example.com  \n",
      "1      maureen98@example.com  \n",
      "2        julie15@example.org  \n",
      "3        yrivera@example.org  \n",
      "4     nicholas71@example.com  \n",
      "\n",
      "JobHistory Table:\n",
      "   job_id  user_id                                          title  \\\n",
      "0       1        1                                Games developer   \n",
      "1       2        1                                 Futures trader   \n",
      "2       3        1                            Animal nutritionist   \n",
      "3       4        2  Chartered legal executive (England and Wales)   \n",
      "4       5        2                                 Therapist, art   \n",
      "\n",
      "                company_name            location  start_date    end_date  \\\n",
      "0               Fuller Group        Wendyborough  2023-07-17  2024-01-11   \n",
      "1              Carroll Group          Aprilshire  2018-01-10  2018-11-23   \n",
      "2                Bauer-Avila  East Michelleshire  2023-10-08  2024-06-04   \n",
      "3  Hunter, Lamb and Jennings       Stefaniemouth  2022-07-24  2022-07-28   \n",
      "4                  Patel Inc            New Tara  2018-05-15  2018-10-24   \n",
      "\n",
      "                                         description  \n",
      "0  Star require particular dog read building. Fig...  \n",
      "1  Gas politics name teach. Relationship today fe...  \n",
      "2  Ready their research road light word season. N...  \n",
      "3  Simple approach boy account glass.\\nWindow add...  \n",
      "4  Actually ask challenge fire sometimes. Directi...  \n",
      "\n",
      "Education Table:\n",
      "   education_id  user_id                   school_name      degree  \\\n",
      "0             1        1    Hernandez, Jones and Olson      toward   \n",
      "1             2        1                Gonzales Group      always   \n",
      "2             3        2  Coleman, Bailey and Anderson       least   \n",
      "3             4        2  Townsend, Miller and Mendoza  Republican   \n",
      "4             5        3  Galloway, Martin and Ramirez       right   \n",
      "\n",
      "  field_of_study  start_date    end_date  \\\n",
      "0           rate  2020-10-09  2021-05-09   \n",
      "1        section  2023-12-27  2024-04-09   \n",
      "2        foreign  2017-03-22  2023-12-07   \n",
      "3         debate  2021-03-27  2023-05-15   \n",
      "4     throughout  2018-09-19  2023-01-25   \n",
      "\n",
      "                                         description  \n",
      "0  Sort of happen enter. Few similar hospital deg...  \n",
      "1  Central about wall help middle give national. ...  \n",
      "2  On very choose gas. Night detail coach upon. F...  \n",
      "3  Key nothing third great Congress law. Able fre...  \n",
      "4  Point actually process participant. Mind role ...  \n",
      "\n",
      "Skills Table:\n",
      "   skill_id  user_id skill_name  endorsements_count\n",
      "0         1        1     record                  89\n",
      "1         2        1       risk                  55\n",
      "2         3        1         TV                  16\n",
      "3         4        1      teach                  75\n",
      "4         5        1     artist                  65\n",
      "\n",
      "Recommendations Table:\n",
      "   recommendation_id  user_id recommender_name  \\\n",
      "0                  1        1      Lisa Weaver   \n",
      "1                  2        2      Megan Owens   \n",
      "2                  3        3  Richard Pearson   \n",
      "3                  4        4    Justin Dorsey   \n",
      "4                  5        5    Joseph Harris   \n",
      "\n",
      "                    recommender_position  \\\n",
      "0                        Psychotherapist   \n",
      "1  Engineer, control and instrumentation   \n",
      "2                     Surveyor, quantity   \n",
      "3                 Therapist, nutritional   \n",
      "4                           Retail buyer   \n",
      "\n",
      "                                 recommendation_text        date  \n",
      "0  Build star anything small involve. Plant parti...  2022-10-06  \n",
      "1  Purpose recognize sometimes send name general ...  2020-06-20  \n",
      "2  Exactly together begin together human forget h...  2023-10-11  \n",
      "3  Go within wish professional man you discover. ...  2022-08-27  \n",
      "4  Forget budget myself old partner. Like push re...  2020-01-22  \n",
      "\n",
      "Connections Table:\n",
      "   connection_id  user_id                connection_linkedin_id  \\\n",
      "0              1        1  bf1ed14b-95e7-4399-8210-ff0c810fd550   \n",
      "1              2        1  73f57a0a-3481-41cb-b16c-09f526e73ae5   \n",
      "2              3        1  9f3b0e56-942e-4210-b0aa-e8cf020692a8   \n",
      "3              4        1  2a035ba9-0b66-44f9-b9d3-5f75d57a734f   \n",
      "4              5        1  a48d0884-8cb5-4381-a25a-13363c9d9765   \n",
      "\n",
      "   connection_name connection_profile_url             connection_headline  \n",
      "0      Ryan Mooney    https://knight.biz/                 Engineer, water  \n",
      "1  Laura Rodriguez       http://hill.biz/            Commissioning editor  \n",
      "2     Cody Alvarez      http://smith.com/                       Economist  \n",
      "3   Matthew Harmon      http://jones.com/           Hydrographic surveyor  \n",
      "4   Danielle Smith     http://harmon.biz/  Armed forces technical officer  \n"
     ]
    }
   ],
   "source": []
  }
 ],
 "metadata": {
  "kernelspec": {
   "display_name": "Python 3 (ipykernel)",
   "language": "python",
   "name": "python3"
  },
  "language_info": {
   "codemirror_mode": {
    "name": "ipython",
    "version": 3
   },
   "file_extension": ".py",
   "mimetype": "text/x-python",
   "name": "python",
   "nbconvert_exporter": "python",
   "pygments_lexer": "ipython3",
   "version": "3.12.3"
  }
 },
 "nbformat": 4,
 "nbformat_minor": 5
}
