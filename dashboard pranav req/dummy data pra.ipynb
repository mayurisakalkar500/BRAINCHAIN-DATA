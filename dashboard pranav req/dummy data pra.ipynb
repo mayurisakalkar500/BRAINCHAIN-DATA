{
 "cells": [
  {
   "cell_type": "code",
   "execution_count": 14,
   "id": "50f52d0e-2597-4050-8857-24ffa38dbf3a",
   "metadata": {},
   "outputs": [],
   "source": [
    "import pandas as pd\n",
    "from faker import Faker\n",
    "import random\n",
    "from datetime import datetime, timedelta\n"
   ]
  },
  {
   "cell_type": "code",
   "execution_count": 15,
   "id": "5b4f96ae-e5b7-4207-b4b3-d98b3fc29a52",
   "metadata": {},
   "outputs": [],
   "source": [
    "# Initialize the Faker instance\n",
    "fake = Faker()"
   ]
  },
  {
   "cell_type": "code",
   "execution_count": 16,
   "id": "cc058bb2-0f62-47e1-973c-c6c35654e210",
   "metadata": {},
   "outputs": [],
   "source": [
    "# Generate fake user data\n",
    "num_users = 10000\n",
    "user_data = {\n",
    "    'UserID': list(range(1, num_users + 1)),\n",
    " 'Username': [fake.user_name() for _ in range(num_users)],\n",
    " 'Password': [fake.password() for _ in range(num_users)],\n",
    "    'Email': [fake.email() for _ in range(num_users)],\n",
    "  'DateCreated': [fake.date_time_between(start_date='-2y', end_date='now') for _ in range(num_users)]\n",
    "}\n",
    "\n",
    "users_df = pd.DataFrame(user_data)"
   ]
  },
  {
   "cell_type": "code",
   "execution_count": 17,
   "id": "9e819f07-72c6-431f-b51b-3730f0a9b1cd",
   "metadata": {},
   "outputs": [],
   "source": [
    "# Generate fake profile data\n",
    "num_profiles = num_users\n",
    "profile_data = {\n",
    "    'ProfileID': list(range(1, num_profiles + 1)),\n",
    "    'UserID': users_df['UserID'],\n",
    "  'FirstName': [fake.first_name() for _ in range(num_profiles)],\n",
    "    'LastName': [fake.last_name() for _ in range(num_profiles)],\n",
    "    'Age': [random.randint(18, 65) for _ in range(num_profiles)],\n",
    "  'Gender': [random.choice(['Male', 'Female', 'Other']) for _ in range(num_profiles)],\n",
    "    'ProfessionalDetails': [random.choice(['Engineer', 'Data Professional', 'Data Analyst', 'Software Developer']) for _ in range(num_profiles)],\n",
    "    'Bio': [fake.text(max_nb_chars=100) for _ in range(num_profiles)],\n",
    " 'Barters': [random.randint(0, 100) for _ in range(num_profiles)],\n",
    "    'LeftSwipes': [random.randint(0, 1000) for _ in range(num_profiles)],\n",
    " 'RightSwipes': [random.randint(0, 1000) for _ in range(num_profiles)]\n",
    "}\n",
    "profiles_df = pd.DataFrame(profile_data)"
   ]
  },
  {
   "cell_type": "code",
   "execution_count": 18,
   "id": "edc6c646-efd8-4b6b-8ada-fc70ff5147b0",
   "metadata": {},
   "outputs": [],
   "source": [
    "# Generate fake location data\n",
    "num_locations = num_users\n",
    "location_data = {\n",
    "    'LocationID': list(range(1, num_locations + 1)),\n",
    "    'UserID': users_df['UserID'],\n",
    "    'Country': [fake.country() for _ in range(num_locations)],\n",
    "    'State': [fake.state() for _ in range(num_locations)],\n",
    "    'City': [fake.city() for _ in range(num_locations)],\n",
    "    'Area': [fake.street_address() for _ in range(num_locations)]\n",
    "}\n",
    "locations_df = pd.DataFrame(location_data)\n"
   ]
  },
  {
   "cell_type": "code",
   "execution_count": 19,
   "id": "5e044379-acb1-445d-849c-f53204042e78",
   "metadata": {},
   "outputs": [],
   "source": [
    "# Generate fake interest data\n",
    "num_interests = num_users * 3\n",
    "interest_data = {\n",
    "    'InterestID': list(range(1, num_interests + 1)),\n",
    "    'UserID': [random.choice(users_df['UserID']) for _ in range(num_interests)],\n",
    "    'Type': [random.choice(['Hobby', 'Like', 'Dislike']) for _ in range(num_interests)],\n",
    "    'Description': [fake.sentence(nb_words=5) for _ in range(num_interests)]\n",
    "}\n",
    "interests_df = pd.DataFrame(interest_data)"
   ]
  },
  {
   "cell_type": "code",
   "execution_count": 20,
   "id": "07c8c953-60f5-4a4d-9ed9-e79eaec93259",
   "metadata": {},
   "outputs": [],
   "source": [
    "# Generate fake connection data\n",
    "num_connections = num_users * 2\n",
    "connection_data = {\n",
    "    'ConnectionID': list(range(1, num_connections + 1)),\n",
    "    'ProfileID1': [random.choice(profiles_df['ProfileID']) for _ in range(num_connections)],\n",
    "    'ProfileID2': [random.choice(profiles_df['ProfileID']) for _ in range(num_connections)],\n",
    "    'DateConnected': [fake.date_time_between(start_date='-1y', end_date='now') for _ in range(num_connections)]\n",
    "}\n",
    "connections_df = pd.DataFrame(connection_data)"
   ]
  },
  {
   "cell_type": "code",
   "execution_count": 21,
   "id": "0208b2c1-9b1b-42e6-9cdf-1dbaf4d5b8ff",
   "metadata": {},
   "outputs": [],
   "source": [
    "# Generate fake swipe data\n",
    "num_swipes = num_users * 50\n",
    "swipe_data = {\n",
    "    'SwipeID': list(range(1, num_swipes + 1)),\n",
    "    'FromProfileID': [random.choice(profiles_df['ProfileID']) for _ in range(num_swipes)],\n",
    "    'ToProfileID': [random.choice(profiles_df['ProfileID']) for _ in range(num_swipes)],\n",
    "    'SwipeType': [random.choice(['Left', 'Right']) for _ in range(num_swipes)],\n",
    "    'SwipeSubtype': [random.choice(['Red', 'Blue', 'Green']) if random.random() < 0.3 else None for _ in range(num_swipes)],\n",
    "    'DateSwiped': [fake.date_time_between(start_date='-6m', end_date='now') for _ in range(num_swipes)]\n",
    "}\n",
    "swipes_df = pd.DataFrame(swipe_data)"
   ]
  },
  {
   "cell_type": "code",
   "execution_count": 22,
   "id": "24ba17b9-7db5-487a-9202-e7fb5e9c43dd",
   "metadata": {},
   "outputs": [
    {
     "name": "stdout",
     "output_type": "stream",
     "text": [
      "Users:\n",
      "   UserID      Username    Password                         Email  \\\n",
      "0       1       lberger  b&h7XNiOo@            bhenry@example.net   \n",
      "1       2    ashleyfrey  ^0%pR7a%b1    gutierreztracy@example.com   \n",
      "2       3    tammybrown  BK^0xL^y3j           roger56@example.com   \n",
      "3       4   wfitzgerald  StS2t&Qx^8           lfowler@example.net   \n",
      "4       5  parkerjoseph  jN9fZHsq)w  jacquelinenorris@example.net   \n",
      "\n",
      "          DateCreated  \n",
      "0 2022-12-14 16:21:53  \n",
      "1 2022-09-03 14:02:16  \n",
      "2 2022-07-09 06:32:27  \n",
      "3 2023-12-22 11:12:43  \n",
      "4 2023-04-07 23:14:02  \n",
      "\n",
      "Profiles:\n",
      "   ProfileID  UserID FirstName LastName  Age  Gender ProfessionalDetails  \\\n",
      "0          1       1    Jeremy    Moore   23   Other            Engineer   \n",
      "1          2       2     Tonya     Moss   57  Female            Engineer   \n",
      "2          3       3  Kimberly     Wood   26  Female        Data Analyst   \n",
      "3          4       4     Kevin    Barry   49   Other  Software Developer   \n",
      "4          5       5    Joshua    Jones   24  Female   Data Professional   \n",
      "\n",
      "                                                 Bio  Barters  LeftSwipes  \\\n",
      "0  Fish young staff gun writer line. Then reason ...       48         106   \n",
      "1  Letter ahead me. Deep control clearly while th...       76         509   \n",
      "2  Environmental together visit art rise. Church ...       21         174   \n",
      "3  Here western into arm camera. Government bad t...        4         384   \n",
      "4  That wrong TV despite call. Might three tradit...       10         348   \n",
      "\n",
      "   RightSwipes  \n",
      "0          334  \n",
      "1           76  \n",
      "2          536  \n",
      "3          659  \n",
      "4          332  \n",
      "\n",
      "Locations:\n",
      "   LocationID  UserID                        Country           State  \\\n",
      "0           1       1                        Mayotte  North Carolina   \n",
      "1           2       2                           Guam     Mississippi   \n",
      "2           3       3       Turks and Caicos Islands     Mississippi   \n",
      "3           4       4            Trinidad and Tobago        Illinois   \n",
      "4           5       5  Holy See (Vatican City State)      Washington   \n",
      "\n",
      "              City                     Area  \n",
      "0  Port Brendaberg     48141 Isabel Prairie  \n",
      "1   Port Wendytown      8381 Leslie Meadows  \n",
      "2        West Sara        621 Burns Centers  \n",
      "3       West Kevin  89361 Martinez Parkways  \n",
      "4        Turnerton            198 Quinn Key  \n",
      "\n",
      "Interests:\n",
      "   InterestID  UserID     Type                                  Description\n",
      "0           1    5115     Like                     Across off whose sister.\n",
      "1           2    3590     Like      Region bag hard hospital realize exist.\n",
      "2           3    1134  Dislike                               Sell out form.\n",
      "3           4    6055    Hobby  Organization practice stop collection part.\n",
      "4           5      65     Like                Call radio degree population.\n",
      "\n",
      "Connections:\n",
      "   ConnectionID  ProfileID1  ProfileID2       DateConnected\n",
      "0             1         221        2540 2023-11-03 23:49:24\n",
      "1             2         314        3692 2023-12-25 11:50:18\n",
      "2             3        5622        6176 2024-06-17 05:45:46\n",
      "3             4        6787        8119 2024-02-19 05:50:20\n",
      "4             5        8011        3791 2024-01-11 00:57:45\n",
      "\n",
      "Swipes:\n",
      "   SwipeID  FromProfileID  ToProfileID SwipeType SwipeSubtype  \\\n",
      "0        1            314         5631     Right         Blue   \n",
      "1        2            434         3573     Right         None   \n",
      "2        3           6885         4803     Right         Blue   \n",
      "3        4           4727         2106      Left         None   \n",
      "4        5           8869         4218      Left         None   \n",
      "\n",
      "           DateSwiped  \n",
      "0 2024-07-06 17:28:24  \n",
      "1 2024-07-06 17:28:00  \n",
      "2 2024-07-06 17:27:40  \n",
      "3 2024-07-06 17:25:48  \n",
      "4 2024-07-06 17:28:55  \n"
     ]
    }
   ],
   "source": [
    "# Print the dataframes\n",
    "print(\"Users:\")\n",
    "print(users_df.head())\n",
    "print(\"\\nProfiles:\")\n",
    "print(profiles_df.head())\n",
    "print(\"\\nLocations:\")\n",
    "print(locations_df.head())\n",
    "print(\"\\nInterests:\")\n",
    "print(interests_df.head())\n",
    "print(\"\\nConnections:\")\n",
    "print(connections_df.head())\n",
    "print(\"\\nSwipes:\")\n",
    "print(swipes_df.head())"
   ]
  },
  {
   "cell_type": "code",
   "execution_count": 23,
   "id": "00aebe6b-c61d-473b-81a6-45e897554721",
   "metadata": {},
   "outputs": [],
   "source": [
    "import os\n",
    "\n"
   ]
  },
  {
   "cell_type": "code",
   "execution_count": 24,
   "id": "4f252861-4b6e-4f0d-abcd-2f8554dd6e81",
   "metadata": {},
   "outputs": [],
   "source": [
    "\n",
    "\n",
    "# Create a directory to save the CSV files\n",
    "output_dir = 'fake_data'\n",
    "if not os.path.exists(output_dir):\n",
    "    os.makedirs(output_dir)\n",
    "\n"
   ]
  },
  {
   "cell_type": "code",
   "execution_count": 26,
   "id": "5e7b538c-4ab2-4396-a12c-0f9b6ffce548",
   "metadata": {},
   "outputs": [
    {
     "name": "stdout",
     "output_type": "stream",
     "text": [
      "Fake data saved in the 'fake_data' directory.\n"
     ]
    }
   ],
   "source": [
    "\n",
    "\n",
    "# Save the DataFrames as CSV files\n",
    "users_df.to_csv(os.path.join(output_dir, 'users.csv'), index=False)\n",
    "profiles_df.to_csv(os.path.join(output_dir, 'profiles.csv'), index=False)\n",
    "locations_df.to_csv(os.path.join(output_dir, 'locations.csv'), index=False)\n",
    "interests_df.to_csv(os.path.join(output_dir, 'interests.csv'), index=False)\n",
    "connections_df.to_csv(os.path.join(output_dir, 'connections.csv'), index=False)\n",
    "swipes_df.to_csv(os.path.join(output_dir, 'swipes.csv'), index=False)\n",
    "\n",
    "\n",
    "print(\"Fake data saved in the 'fake_data' directory.\")"
   ]
  },
  {
   "cell_type": "code",
   "execution_count": null,
   "id": "61df03df-a334-40f4-9015-f1335ba74c85",
   "metadata": {},
   "outputs": [],
   "source": []
  }
 ],
 "metadata": {
  "kernelspec": {
   "display_name": "Python 3 (ipykernel)",
   "language": "python",
   "name": "python3"
  },
  "language_info": {
   "codemirror_mode": {
    "name": "ipython",
    "version": 3
   },
   "file_extension": ".py",
   "mimetype": "text/x-python",
   "name": "python",
   "nbconvert_exporter": "python",
   "pygments_lexer": "ipython3",
   "version": "3.12.3"
  }
 },
 "nbformat": 4,
 "nbformat_minor": 5
}
