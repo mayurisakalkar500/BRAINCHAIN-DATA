{
 "cells": [
  {
   "cell_type": "code",
   "execution_count": 1,
   "id": "996e006a-e954-4a04-b97f-053d2d0b2ff6",
   "metadata": {},
   "outputs": [
    {
     "name": "stdout",
     "output_type": "stream",
     "text": [
      "User-Item Matrix:\n",
      "Item   Item1  Item2  Item3\n",
      "User                      \n",
      "User1    5.0    3.0    0.0\n",
      "User2    4.0    1.0    0.0\n",
      "User3    4.0    0.0    2.0\n"
     ]
    }
   ],
   "source": [
    "import pandas as pd\n",
    "import numpy as np\n",
    "from sklearn.metrics.pairwise import cosine_similarity\n",
    "\n",
    "# Create a smaller dummy dataset\n",
    "data = {\n",
    "    'User': ['User1', 'User1', 'User2', 'User2', 'User3', 'User3'],\n",
    "    'Item': ['Item1', 'Item2', 'Item1', 'Item2', 'Item1', 'Item3'],\n",
    "    'Rating': [5, 3, 4, 1, 4, 2]\n",
    "}\n",
    "\n",
    "df = pd.DataFrame(data)\n",
    "\n",
    "# Create a user-item matrix\n",
    "user_item_matrix = df.pivot_table(index='User', columns='Item', values='Rating')\n",
    "user_item_matrix = user_item_matrix.fillna(0)\n",
    "\n",
    "print(\"User-Item Matrix:\")\n",
    "print(user_item_matrix)\n"
   ]
  },
  {
   "cell_type": "code",
   "execution_count": 2,
   "id": "8b78073a-386f-4d99-ba5c-f350143bf949",
   "metadata": {},
   "outputs": [
    {
     "name": "stdout",
     "output_type": "stream",
     "text": [
      "\n",
      "User Similarity Matrix:\n",
      "User      User1     User2     User3\n",
      "User                               \n",
      "User1  1.000000  0.956674  0.766965\n",
      "User2  0.956674  1.000000  0.867722\n",
      "User3  0.766965  0.867722  1.000000\n"
     ]
    }
   ],
   "source": [
    "# Compute cosine similarity between users\n",
    "user_similarity = cosine_similarity(user_item_matrix)\n",
    "\n",
    "# Convert the similarity matrix into a DataFrame\n",
    "user_similarity_df = pd.DataFrame(user_similarity, index=user_item_matrix.index, columns=user_item_matrix.index)\n",
    "\n",
    "print(\"\\nUser Similarity Matrix:\")\n",
    "print(user_similarity_df)\n"
   ]
  },
  {
   "cell_type": "code",
   "execution_count": 3,
   "id": "24cc7ca8-c593-4111-b876-a36c36b63b06",
   "metadata": {},
   "outputs": [
    {
     "name": "stdout",
     "output_type": "stream",
     "text": [
      "\n",
      "Predicted Ratings:\n",
      "Item   Item1     Item2  Item3\n",
      "User                         \n",
      "User1    5.0  3.000000    2.0\n",
      "User2    4.0  1.000000    2.0\n",
      "User3    4.0  1.938363    2.0\n",
      "\n",
      "Top recommendation for User1:\n",
      "Item\n",
      "Item1    5.0\n",
      "Name: User1, dtype: float64\n"
     ]
    }
   ],
   "source": [
    "def predict_ratings(user, item):\n",
    "    similar_users = user_similarity_df[user]\n",
    "    user_ratings = user_item_matrix.loc[:, item]\n",
    "    non_zero_similarities = similar_users[user_ratings > 0]\n",
    "\n",
    "    if non_zero_similarities.sum() == 0:\n",
    "        return 0\n",
    "    \n",
    "    predicted_rating = np.dot(non_zero_similarities, user_ratings[user_ratings > 0]) / non_zero_similarities.sum()\n",
    "    return predicted_rating\n",
    "\n",
    "# Predict ratings for all user-item pairs\n",
    "predicted_ratings = user_item_matrix.copy()\n",
    "\n",
    "for user in user_item_matrix.index:\n",
    "    for item in user_item_matrix.columns:\n",
    "        if user_item_matrix.loc[user, item] == 0:\n",
    "            predicted_ratings.loc[user, item] = predict_ratings(user, item)\n",
    "\n",
    "print(\"\\nPredicted Ratings:\")\n",
    "print(predicted_ratings)\n",
    "\n",
    "# Get top recommendations for each user\n",
    "def recommend_items(user, num_recommendations=1):\n",
    "    user_ratings = predicted_ratings.loc[user]\n",
    "    already_rated = user_item_matrix.loc[user].drop(user_item_matrix.loc[user][user_item_matrix.loc[user] > 0].index)\n",
    "    recommendations = user_ratings.drop(already_rated.index).nlargest(num_recommendations)\n",
    "    return recommendations\n",
    "\n",
    "# Example: Get top recommendation for 'User1'\n",
    "user = 'User1'\n",
    "recommendations = recommend_items(user, num_recommendations=1)\n",
    "\n",
    "print(f\"\\nTop recommendation for {user}:\")\n",
    "print(recommendations)\n"
   ]
  },
  {
   "cell_type": "code",
   "execution_count": null,
   "id": "6ec3fc69-9e43-42d8-b979-de1804167687",
   "metadata": {},
   "outputs": [],
   "source": []
  }
 ],
 "metadata": {
  "kernelspec": {
   "display_name": "Python 3 (ipykernel)",
   "language": "python",
   "name": "python3"
  },
  "language_info": {
   "codemirror_mode": {
    "name": "ipython",
    "version": 3
   },
   "file_extension": ".py",
   "mimetype": "text/x-python",
   "name": "python",
   "nbconvert_exporter": "python",
   "pygments_lexer": "ipython3",
   "version": "3.12.3"
  }
 },
 "nbformat": 4,
 "nbformat_minor": 5
}
